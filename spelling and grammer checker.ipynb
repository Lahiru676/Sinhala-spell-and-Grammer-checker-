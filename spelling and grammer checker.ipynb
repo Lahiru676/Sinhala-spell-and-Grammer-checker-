{
 "cells": [
  {
   "cell_type": "code",
   "execution_count": 4,
   "metadata": {},
   "outputs": [],
   "source": [
    "import pandas as pd\n",
    "\n",
    "\n",
    "\n",
    "# Load the dataset\n",
    "data = pd.read_excel(\"F:/AI project/archive (6)/data-spell-checker.xlsx\")"
   ]
  },
  {
   "cell_type": "code",
   "execution_count": 5,
   "metadata": {},
   "outputs": [
    {
     "data": {
      "text/html": [
       "<div>\n",
       "<style scoped>\n",
       "    .dataframe tbody tr th:only-of-type {\n",
       "        vertical-align: middle;\n",
       "    }\n",
       "\n",
       "    .dataframe tbody tr th {\n",
       "        vertical-align: top;\n",
       "    }\n",
       "\n",
       "    .dataframe thead th {\n",
       "        text-align: right;\n",
       "    }\n",
       "</style>\n",
       "<table border=\"1\" class=\"dataframe\">\n",
       "  <thead>\n",
       "    <tr style=\"text-align: right;\">\n",
       "      <th></th>\n",
       "      <th>word</th>\n",
       "      <th>label</th>\n",
       "    </tr>\n",
       "  </thead>\n",
       "  <tbody>\n",
       "    <tr>\n",
       "      <th>0</th>\n",
       "      <td>අභිචෝදකයා</td>\n",
       "      <td>1</td>\n",
       "    </tr>\n",
       "    <tr>\n",
       "      <th>1</th>\n",
       "      <td>අංකනය</td>\n",
       "      <td>1</td>\n",
       "    </tr>\n",
       "    <tr>\n",
       "      <th>2</th>\n",
       "      <td>අංකන</td>\n",
       "      <td>1</td>\n",
       "    </tr>\n",
       "    <tr>\n",
       "      <th>3</th>\n",
       "      <td>අංකය</td>\n",
       "      <td>1</td>\n",
       "    </tr>\n",
       "    <tr>\n",
       "      <th>4</th>\n",
       "      <td>අංකාන්තරය</td>\n",
       "      <td>1</td>\n",
       "    </tr>\n",
       "  </tbody>\n",
       "</table>\n",
       "</div>"
      ],
      "text/plain": [
       "        word  label\n",
       "0  අභිචෝදකයා      1\n",
       "1      අංකනය      1\n",
       "2       අංකන      1\n",
       "3       අංකය      1\n",
       "4  අංකාන්තරය      1"
      ]
     },
     "execution_count": 5,
     "metadata": {},
     "output_type": "execute_result"
    }
   ],
   "source": [
    "data.head()"
   ]
  },
  {
   "cell_type": "code",
   "execution_count": 15,
   "metadata": {},
   "outputs": [
    {
     "name": "stdout",
     "output_type": "stream",
     "text": [
      "Misspelled words: බොඅ\n"
     ]
    }
   ],
   "source": [
    "import re\n",
    "\n",
    "# Define a basic dictionary of correct words (for demonstration purposes)\n",
    "correct_words = data['word'].tolist()\n",
    "\n",
    "def check_spelling(sentence):\n",
    "    words = sentence.split()\n",
    "    errors = []\n",
    "    \n",
    "    for word in words:\n",
    "        # If the word is not in the dictionary, it's likely a misspelling\n",
    "        if word not in correct_words:\n",
    "            errors.append(word)\n",
    "    \n",
    "    return errors\n",
    "\n",
    "# Example input\n",
    "sentence = \"ආයුබෝවන් බොඅ\"   \n",
    "misspelled = check_spelling(sentence)\n",
    "if misspelled:\n",
    "    print(f\"Misspelled words: {', '.join(misspelled)}\")\n",
    "else:\n",
    "    print(\"No spelling errors detected.\")\n"
   ]
  },
  {
   "cell_type": "code",
   "execution_count": 12,
   "metadata": {},
   "outputs": [
    {
     "name": "stdout",
     "output_type": "stream",
     "text": [
      "Grammar check passed.\n"
     ]
    }
   ],
   "source": [
    "# Define a simple list of correct verb forms for different subjects\n",
    "subject_verb_rules = {\n",
    "    'ඔහු': 'ගියේය',\n",
    "    'ඇය': 'ගියාය',\n",
    "    'අපි': 'ගියෙමු',\n",
    "    'මම': 'ගියෙමි'\n",
    "}\n",
    "\n",
    "def check_grammar(sentence):\n",
    "    # Extract subject and verb (simplified)\n",
    "    words = sentence.split()\n",
    "    subject = words[0]\n",
    "    verb = words[-1]\n",
    "    \n",
    "    if subject in subject_verb_rules:\n",
    "        correct_verb = subject_verb_rules[subject]\n",
    "        if verb != correct_verb:\n",
    "            print(f\"Grammar error: Expected verb '{correct_verb}' for subject '{subject}', but found '{verb}'.\")\n",
    "        else:\n",
    "            print(\"Grammar check passed.\")\n",
    "    else:\n",
    "        print(\"No subject-verb rule found for this subject.\")\n",
    "\n",
    "# Example input\n",
    "sentence = \"අපි ගමන ගියෙමු\"\n",
    "check_grammar(sentence)  # Should print a grammar error because the verb should be \"ගියේය\".\n"
   ]
  },
  {
   "cell_type": "code",
   "execution_count": 14,
   "metadata": {},
   "outputs": [
    {
     "name": "stdout",
     "output_type": "stream",
     "text": [
      "Spelling errors: අපි, පන්සල්, ගියෙමු\n",
      "Grammar check passed.\n"
     ]
    }
   ],
   "source": [
    "def check_sentence(sentence):\n",
    "    # Check for spelling errors\n",
    "    spelling_errors = check_spelling(sentence)\n",
    "    if spelling_errors:\n",
    "        print(f\"Spelling errors: {', '.join(spelling_errors)}\")\n",
    "    else:\n",
    "        print(\"No spelling errors detected.\")\n",
    "\n",
    "    # Check for grammar errors\n",
    "    check_grammar(sentence)\n",
    "\n",
    "# Example sentence\n",
    "sentence = \"අපි පන්සල් ගියෙමු\"\n",
    "check_sentence(sentence)\n"
   ]
  }
 ],
 "metadata": {
  "kernelspec": {
   "display_name": "base",
   "language": "python",
   "name": "python3"
  },
  "language_info": {
   "codemirror_mode": {
    "name": "ipython",
    "version": 3
   },
   "file_extension": ".py",
   "mimetype": "text/x-python",
   "name": "python",
   "nbconvert_exporter": "python",
   "pygments_lexer": "ipython3",
   "version": "3.12.4"
  }
 },
 "nbformat": 4,
 "nbformat_minor": 2
}
